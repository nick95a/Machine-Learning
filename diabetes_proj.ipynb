{
 "cells": [
  {
   "cell_type": "code",
   "execution_count": 1,
   "metadata": {
    "ExecuteTime": {
     "end_time": "2020-05-21T10:13:04.021789Z",
     "start_time": "2020-05-21T10:13:04.013121Z"
    }
   },
   "outputs": [],
   "source": [
    "import pandas as pd\n",
    "import numpy as np\n",
    "import sklearn\n",
    "import matplotlib.pyplot as plt\n",
    "from sklearn.preprocessing import PolynomialFeatures\n",
    "from sklearn import datasets\n",
    "from sklearn.preprocessing import MinMaxScaler, StandardScaler\n",
    "\n",
    "from sklearn.metrics import explained_variance_score\n",
    "from sklearn.metrics import r2_score\n",
    "\n",
    "from sklearn.feature_selection import SelectKBest, chi2"
   ]
  },
  {
   "cell_type": "markdown",
   "metadata": {},
   "source": [
    "#### Download data"
   ]
  },
  {
   "cell_type": "code",
   "execution_count": 32,
   "metadata": {
    "ExecuteTime": {
     "end_time": "2020-05-21T10:13:04.451468Z",
     "start_time": "2020-05-21T10:13:04.427261Z"
    }
   },
   "outputs": [],
   "source": [
    "dataset = datasets.load_diabetes(return_X_y = False)\n",
    "cols = dataset.feature_names"
   ]
  },
  {
   "cell_type": "code",
   "execution_count": 33,
   "metadata": {
    "ExecuteTime": {
     "end_time": "2020-05-21T10:13:04.636311Z",
     "start_time": "2020-05-21T10:13:04.610984Z"
    }
   },
   "outputs": [],
   "source": [
    "X, y = datasets.load_diabetes(return_X_y = True)\n",
    "X = pd.DataFrame(X, columns = cols)\n",
    "y = pd.Series(y, name = 'target')"
   ]
  },
  {
   "cell_type": "code",
   "execution_count": 34,
   "metadata": {
    "ExecuteTime": {
     "end_time": "2020-05-21T10:13:04.816427Z",
     "start_time": "2020-05-21T10:13:04.811419Z"
    }
   },
   "outputs": [],
   "source": [
    "def print_dataset_descr(dataset):\n",
    "    \n",
    "    try:\n",
    "        \n",
    "        import pprint\n",
    "        pp = pprint.PrettyPrinter()\n",
    "        pp.pprint(dataset['DESCR'])\n",
    "        \n",
    "    except NameError:\n",
    "        \n",
    "        print('Cannot import pprint')"
   ]
  },
  {
   "cell_type": "code",
   "execution_count": 35,
   "metadata": {
    "ExecuteTime": {
     "end_time": "2020-05-21T10:13:05.020431Z",
     "start_time": "2020-05-21T10:13:05.006059Z"
    }
   },
   "outputs": [
    {
     "name": "stdout",
     "output_type": "stream",
     "text": [
      "('.. _diabetes_dataset:\\n'\n",
      " '\\n'\n",
      " 'Diabetes dataset\\n'\n",
      " '----------------\\n'\n",
      " '\\n'\n",
      " 'Ten baseline variables, age, sex, body mass index, average blood\\n'\n",
      " 'pressure, and six blood serum measurements were obtained for each of n =\\n'\n",
      " '442 diabetes patients, as well as the response of interest, a\\n'\n",
      " 'quantitative measure of disease progression one year after baseline.\\n'\n",
      " '\\n'\n",
      " '**Data Set Characteristics:**\\n'\n",
      " '\\n'\n",
      " '  :Number of Instances: 442\\n'\n",
      " '\\n'\n",
      " '  :Number of Attributes: First 10 columns are numeric predictive values\\n'\n",
      " '\\n'\n",
      " '  :Target: Column 11 is a quantitative measure of disease progression one '\n",
      " 'year after baseline\\n'\n",
      " '\\n'\n",
      " '  :Attribute Information:\\n'\n",
      " '      - Age\\n'\n",
      " '      - Sex\\n'\n",
      " '      - Body mass index\\n'\n",
      " '      - Average blood pressure\\n'\n",
      " '      - S1\\n'\n",
      " '      - S2\\n'\n",
      " '      - S3\\n'\n",
      " '      - S4\\n'\n",
      " '      - S5\\n'\n",
      " '      - S6\\n'\n",
      " '\\n'\n",
      " 'Note: Each of these 10 feature variables have been mean centered and scaled '\n",
      " 'by the standard deviation times `n_samples` (i.e. the sum of squares of each '\n",
      " 'column totals 1).\\n'\n",
      " '\\n'\n",
      " 'Source URL:\\n'\n",
      " 'https://www4.stat.ncsu.edu/~boos/var.select/diabetes.html\\n'\n",
      " '\\n'\n",
      " 'For more information see:\\n'\n",
      " 'Bradley Efron, Trevor Hastie, Iain Johnstone and Robert Tibshirani (2004) '\n",
      " '\"Least Angle Regression,\" Annals of Statistics (with discussion), 407-499.\\n'\n",
      " '(https://web.stanford.edu/~hastie/Papers/LARS/LeastAngle_2002.pdf)')\n"
     ]
    }
   ],
   "source": [
    "print_dataset_descr(dataset)"
   ]
  },
  {
   "cell_type": "markdown",
   "metadata": {},
   "source": [
    "### EDA"
   ]
  },
  {
   "cell_type": "code",
   "execution_count": 36,
   "metadata": {
    "ExecuteTime": {
     "end_time": "2020-05-21T10:13:06.140997Z",
     "start_time": "2020-05-21T10:13:06.135059Z"
    }
   },
   "outputs": [],
   "source": [
    "data = pd.concat([X, y], axis = 1)"
   ]
  },
  {
   "cell_type": "markdown",
   "metadata": {},
   "source": [
    "#### Количество пропусков и дубликатов"
   ]
  },
  {
   "cell_type": "code",
   "execution_count": 37,
   "metadata": {
    "ExecuteTime": {
     "end_time": "2020-05-21T10:13:06.915386Z",
     "start_time": "2020-05-21T10:13:06.902744Z"
    }
   },
   "outputs": [
    {
     "name": "stdout",
     "output_type": "stream",
     "text": [
      "Количество пропусков в данных\n",
      "\n"
     ]
    },
    {
     "data": {
      "text/plain": [
       "age       0\n",
       "sex       0\n",
       "bmi       0\n",
       "bp        0\n",
       "s1        0\n",
       "s2        0\n",
       "s3        0\n",
       "s4        0\n",
       "s5        0\n",
       "s6        0\n",
       "target    0\n",
       "dtype: int64"
      ]
     },
     "execution_count": 37,
     "metadata": {},
     "output_type": "execute_result"
    }
   ],
   "source": [
    "print('Количество пропусков в данных')\n",
    "print()\n",
    "data.isnull().sum()"
   ]
  },
  {
   "cell_type": "code",
   "execution_count": 38,
   "metadata": {
    "ExecuteTime": {
     "end_time": "2020-05-21T10:13:07.383244Z",
     "start_time": "2020-05-21T10:13:07.370972Z"
    }
   },
   "outputs": [
    {
     "name": "stdout",
     "output_type": "stream",
     "text": [
      "Количество дубликатов: 0\n"
     ]
    }
   ],
   "source": [
    "print('Количество дубликатов: {0}'.format(data.duplicated().sum()))"
   ]
  },
  {
   "cell_type": "markdown",
   "metadata": {},
   "source": [
    "#### Наблюдение\n",
    "\n",
    "Пропусков и дубликатов нет, датасет, видимо, очищен до нас, поэтому можем двигаться дальше."
   ]
  },
  {
   "cell_type": "markdown",
   "metadata": {},
   "source": [
    "### Графики"
   ]
  },
  {
   "cell_type": "code",
   "execution_count": 39,
   "metadata": {
    "ExecuteTime": {
     "end_time": "2020-05-21T10:13:09.435684Z",
     "start_time": "2020-05-21T10:13:09.431861Z"
    }
   },
   "outputs": [],
   "source": [
    "import seaborn as sns"
   ]
  },
  {
   "cell_type": "markdown",
   "metadata": {},
   "source": [
    "#### Посмотрим на распределение целевой переменной\n",
    "\n",
    "Видим, что у целевой переменной есть ярковыраженная смещенность или positive skew. Таким образом, мат.ожидание целевой переменной будет больше значения медианы целевой переменной. "
   ]
  },
  {
   "cell_type": "code",
   "execution_count": 40,
   "metadata": {
    "ExecuteTime": {
     "end_time": "2020-05-21T10:13:10.095675Z",
     "start_time": "2020-05-21T10:13:09.822146Z"
    }
   },
   "outputs": [
    {
     "data": {
      "image/png": "[encoded data removed]",
      "text/plain": [
       "<Figure size 432x288 with 1 Axes>"
      ]
     },
     "metadata": {
      "needs_background": "light"
     },
     "output_type": "display_data"
    }
   ],
   "source": [
    "#plt.hist(data['target'], bins = 15, histtype = 'bar')\n",
    "sns.distplot(data['target'], bins = 15, color = 'orange')\n",
    "plt.show()"
   ]
  },
  {
   "cell_type": "markdown",
   "metadata": {},
   "source": [
    "#### Наблюдение\n",
    "\n",
    "Из данных можно выделить примерно три группы на глаз: группа со значением target от 50 до 120 примерно, потом от 120 до 275 и третья группа - 275+. При желании можно потом попробовать решить задачу классификации по этим, перекодировав переменные соответствующим образом по категориям."
   ]
  },
  {
   "cell_type": "markdown",
   "metadata": {},
   "source": [
    "#### Есть ли стат выбросы в target?"
   ]
  },
  {
   "cell_type": "code",
   "execution_count": 41,
   "metadata": {
    "ExecuteTime": {
     "end_time": "2020-05-21T10:13:11.548887Z",
     "start_time": "2020-05-21T10:13:11.366771Z"
    }
   },
   "outputs": [
    {
     "data": {
      "image/png": "[encoded data removed]",
      "text/plain": [
       "<Figure size 432x288 with 1 Axes>"
      ]
     },
     "metadata": {
      "needs_background": "light"
     },
     "output_type": "display_data"
    }
   ],
   "source": [
    "plt.boxplot(data['target'])\n",
    "plt.show()"
   ]
  },
  {
   "cell_type": "markdown",
   "metadata": {
    "ExecuteTime": {
     "end_time": "2020-05-19T06:49:03.127644Z",
     "start_time": "2020-05-19T06:49:03.121511Z"
    }
   },
   "source": [
    "#### Наблюдение\n",
    "\n",
    "Визуально стат выбросов в целевой переменной нет."
   ]
  },
  {
   "cell_type": "markdown",
   "metadata": {},
   "source": [
    "#### Выбросы в признаках\n",
    "\n",
    "Выбросы есть сразу в нескольких признаках, например, в bmi, s1, s3 и т.д. От таких значений можно избавиться и качество нашей модели должно улучшиться."
   ]
  },
  {
   "cell_type": "code",
   "execution_count": 116,
   "metadata": {},
   "outputs": [
    {
     "data": {
      "image/png": "[encoded data removed]",
      "text/plain": [
       "<Figure size 2520x360 with 10 Axes>"
      ]
     },
     "metadata": {
      "needs_background": "light"
     },
     "output_type": "display_data"
    }
   ],
   "source": [
    "cols = list(X.columns)\n",
    "\n",
    "fig, (ax) = plt.subplots(1, 10)\n",
    "fig.set_figwidth(35)\n",
    "fig.set_figheight(5)\n",
    "\n",
    "for item in list(zip(ax, cols)):\n",
    "    \n",
    "    item[0].boxplot(data[item[1]])\n",
    "    item[0].set_title(item[1])\n",
    "plt.show()"
   ]
  },
  {
   "cell_type": "markdown",
   "metadata": {},
   "source": [
    "#### Выбросы в целевой переменной\n",
    "\n",
    "Выбросов в целевой переменной не наблюдается."
   ]
  },
  {
   "cell_type": "code",
   "execution_count": 43,
   "metadata": {
    "ExecuteTime": {
     "end_time": "2020-05-21T09:26:05.575829Z",
     "start_time": "2020-05-21T09:26:05.370606Z"
    }
   },
   "outputs": [
    {
     "data": {
      "image/png": "[encoded data removed]",
      "text/plain": [
       "<Figure size 432x288 with 1 Axes>"
      ]
     },
     "metadata": {
      "needs_background": "light"
     },
     "output_type": "display_data"
    }
   ],
   "source": [
    "plt.boxplot(data['age'])\n",
    "plt.show()"
   ]
  },
  {
   "cell_type": "markdown",
   "metadata": {
    "ExecuteTime": {
     "end_time": "2020-05-16T09:54:17.393979Z",
     "start_time": "2020-05-16T09:54:17.390159Z"
    }
   },
   "source": [
    "### Модели"
   ]
  },
  {
   "cell_type": "code",
   "execution_count": 44,
   "metadata": {
    "ExecuteTime": {
     "end_time": "2020-05-21T09:52:11.351577Z",
     "start_time": "2020-05-21T09:52:11.347067Z"
    }
   },
   "outputs": [],
   "source": [
    "from sklearn.metrics import mean_squared_error\n",
    "from sklearn.linear_model import Ridge, Lasso, LinearRegression, HuberRegressor\n",
    "from sklearn.model_selection import train_test_split"
   ]
  },
  {
   "cell_type": "markdown",
   "metadata": {},
   "source": [
    "#### Полезные функции"
   ]
  },
  {
   "cell_type": "code",
   "execution_count": 45,
   "metadata": {
    "ExecuteTime": {
     "end_time": "2020-05-21T10:13:19.606715Z",
     "start_time": "2020-05-21T10:13:19.601186Z"
    }
   },
   "outputs": [],
   "source": [
    "def mape(y_true, y_pred):\n",
    "    \n",
    "    return np.mean(np.abs((y_true - y_pred) / y_true)) * 100"
   ]
  },
  {
   "cell_type": "code",
   "execution_count": 46,
   "metadata": {
    "ExecuteTime": {
     "end_time": "2020-05-21T10:13:19.799712Z",
     "start_time": "2020-05-21T10:13:19.794307Z"
    }
   },
   "outputs": [],
   "source": [
    "def fit_predict(model, metric, X_train, X_valid, y_train, y_valid):\n",
    "    \n",
    "    model.fit(X_train, y_train)\n",
    "    pred_valid = model.predict(X_valid)\n",
    "    print('Mape result is {0}'.format(metric(y_valid, pred_valid)))"
   ]
  },
  {
   "cell_type": "markdown",
   "metadata": {},
   "source": [
    "#### Отбор лучших признаков"
   ]
  },
  {
   "cell_type": "code",
   "execution_count": 47,
   "metadata": {
    "ExecuteTime": {
     "end_time": "2020-05-21T09:41:48.754371Z",
     "start_time": "2020-05-21T09:41:48.750587Z"
    }
   },
   "outputs": [],
   "source": [
    "#selectK = SelectKBest(score_func = chi2, k = 4)\n",
    "#X = selectK.fit_transform(X, y)"
   ]
  },
  {
   "cell_type": "markdown",
   "metadata": {},
   "source": [
    "#### Разбиение выборки на три группы"
   ]
  },
  {
   "cell_type": "code",
   "execution_count": 48,
   "metadata": {
    "ExecuteTime": {
     "end_time": "2020-05-21T10:13:16.813593Z",
     "start_time": "2020-05-21T10:13:16.801085Z"
    }
   },
   "outputs": [],
   "source": [
    "X_train, X_test, y_train, X_test = train_test_split(X, y, test_size = 0.2, random_state = 25)\n",
    "X_train, X_valid, y_train, y_valid = train_test_split(X_train, y_train, test_size = 0.2, random_state = 25)"
   ]
  },
  {
   "cell_type": "markdown",
   "metadata": {},
   "source": [
    "#### Инициализация моделей"
   ]
  },
  {
   "cell_type": "code",
   "execution_count": 51,
   "metadata": {
    "ExecuteTime": {
     "end_time": "2020-05-21T10:13:21.278903Z",
     "start_time": "2020-05-21T10:13:21.274087Z"
    }
   },
   "outputs": [],
   "source": [
    "linreg = LinearRegression()\n",
    "ridge = Ridge(random_state = 25)\n",
    "lasso = Lasso(random_state = 25)\n",
    "huber = HuberRegressor()"
   ]
  },
  {
   "cell_type": "code",
   "execution_count": 52,
   "metadata": {
    "ExecuteTime": {
     "end_time": "2020-05-21T10:13:21.464780Z",
     "start_time": "2020-05-21T10:13:21.455459Z"
    }
   },
   "outputs": [],
   "source": [
    "models = [('ridge', ridge), ('linreg', linreg), ('lasso', lasso), ('huber', huber)]"
   ]
  },
  {
   "cell_type": "markdown",
   "metadata": {},
   "source": [
    "#### Модели на стандарном датасете без преобразований"
   ]
  },
  {
   "cell_type": "code",
   "execution_count": 53,
   "metadata": {
    "ExecuteTime": {
     "end_time": "2020-05-21T10:13:21.789489Z",
     "start_time": "2020-05-21T10:13:21.703380Z"
    }
   },
   "outputs": [
    {
     "name": "stdout",
     "output_type": "stream",
     "text": [
      "Current model is ridge\n",
      "\n",
      "Mape result is 42.82002841842687\n",
      "R-2 score is 0.32743683028596104\n",
      "\n",
      "Current model is linreg\n",
      "\n",
      "Mape result is 37.275663126563394\n",
      "R-2 score is 0.43552591604382573\n",
      "\n",
      "Current model is lasso\n",
      "\n",
      "Mape result is 43.075550596693134\n",
      "R-2 score is 0.3167398514898174\n",
      "\n",
      "Current model is huber\n",
      "\n",
      "Mape result is 36.95826794495467\n",
      "R-2 score is 0.4384219877936948\n",
      "\n"
     ]
    }
   ],
   "source": [
    "for model in models:\n",
    "    \n",
    "    print('Current model is {0}'.format(model[0]))\n",
    "    print()\n",
    "    fit_predict(model[1], mape, X_train, X_valid, y_train, y_valid)\n",
    "    reg = model[1].fit(X_train, y_train)\n",
    "    pred = reg.predict(X_valid)\n",
    "    print('R-2 score is {0}'.format(r2_score(y_valid, pred)))\n",
    "    print()"
   ]
  },
  {
   "cell_type": "markdown",
   "metadata": {},
   "source": [
    "#### Наблюдения\n",
    "\n",
    "Итак, мы видим, что лучший результат без тюнинга параметров показывает модель HuberRegressor."
   ]
  },
  {
   "cell_type": "markdown",
   "metadata": {},
   "source": [
    "#### Мысли по улучшению модели\n",
    "\n",
    "Как можно улучшить модель?\n",
    "<br>\n",
    "Самый очевидный способ - заняться подгоном параметров.\n",
    "<br>\n",
    "Также можно вернуться к фичам и попробовать погенерировать несколько составных фич и посмотреть на результаты еще раз. \n",
    "<br>\n",
    "Еще предлагаю попробовать другие метрики и посмотреть что получится на других метриках, они могут помочь понять хорошая у нас модель или нет. Проблема MSE именно в том, что это величина абсолютная, поэтому сравнить модели между собой можно - та, где меньше MSE, лучше, но общего понимания того, насколько хорошо модель предсказывает целевую переменную мы не получаем."
   ]
  },
  {
   "cell_type": "markdown",
   "metadata": {},
   "source": [
    "#### Модели с полиномиальными признаками второй степени"
   ]
  },
  {
   "cell_type": "code",
   "execution_count": 54,
   "metadata": {},
   "outputs": [],
   "source": [
    "poly = PolynomialFeatures(2)\n",
    "X = pd.DataFrame(poly.fit_transform(X))"
   ]
  },
  {
   "cell_type": "code",
   "execution_count": 55,
   "metadata": {},
   "outputs": [],
   "source": [
    "X_train, X_test, y_train, X_test = train_test_split(X, y, test_size = 0.2, random_state = 25)\n",
    "X_train, X_valid, y_train, y_valid = train_test_split(X_train, y_train, test_size = 0.2, random_state = 25)"
   ]
  },
  {
   "cell_type": "code",
   "execution_count": 56,
   "metadata": {},
   "outputs": [
    {
     "name": "stdout",
     "output_type": "stream",
     "text": [
      "Current model is ridge\n",
      "\n",
      "Mape result is 42.804229981601225\n",
      "R-2 score is 0.3277672296176136\n",
      "\n",
      "Current model is linreg\n",
      "\n",
      "Mape result is 38.01444095440279\n",
      "R-2 score is 0.39731382971634355\n",
      "\n",
      "Current model is lasso\n",
      "\n",
      "Mape result is 43.075550596693134\n",
      "R-2 score is 0.3167398514898174\n",
      "\n",
      "Current model is huber\n",
      "\n",
      "Mape result is 35.44047195774676\n",
      "R-2 score is 0.44838826682380706\n",
      "\n"
     ]
    }
   ],
   "source": [
    "for model in models:\n",
    "    \n",
    "    print('Current model is {0}'.format(model[0]))\n",
    "    print()\n",
    "    fit_predict(model[1], mape, X_train, X_valid, y_train, y_valid)\n",
    "    reg = model[1].fit(X_train, y_train)\n",
    "    pred = reg.predict(X_valid)\n",
    "    print('R-2 score is {0}'.format(r2_score(y_valid, pred)))\n",
    "    print()"
   ]
  },
  {
   "cell_type": "markdown",
   "metadata": {},
   "source": [
    "#### Модель с трансформацией целевой переменной\n",
    "\n",
    "Рассмотрим пару способов трансформации целевой переменной. \n",
    "<br>\n",
    "Первый: Приведение целевой переменной к диапазону [0, 1].\n",
    "<br>\n",
    "Второй: Стандартизация переменной через вычитание среднего и деления на стандартное отклонение."
   ]
  },
  {
   "cell_type": "markdown",
   "metadata": {},
   "source": [
    "#### Трансформация MinMax"
   ]
  },
  {
   "cell_type": "code",
   "execution_count": 57,
   "metadata": {},
   "outputs": [],
   "source": [
    "X, y = datasets.load_diabetes(return_X_y = True)\n",
    "X = pd.DataFrame(X, columns = cols)\n",
    "y = pd.Series(y, name = 'target')"
   ]
  },
  {
   "cell_type": "code",
   "execution_count": 58,
   "metadata": {},
   "outputs": [],
   "source": [
    "X_train, X_test, y_train, X_test = train_test_split(X, y, test_size = 0.2, random_state = 25)\n",
    "X_train, X_valid, y_train, y_valid = train_test_split(X_train, y_train, test_size = 0.2, random_state = 25)"
   ]
  },
  {
   "cell_type": "code",
   "execution_count": 59,
   "metadata": {},
   "outputs": [],
   "source": [
    "scaler = StandardScaler()\n",
    "\n",
    "y_train = y_train.values.reshape(-1, 1)\n",
    "y_valid = y_valid.values.reshape(-1, 1)\n",
    "\n",
    "y_train = scaler.fit_transform(y_train)\n",
    "y_valid = scaler.transform(y_valid)"
   ]
  },
  {
   "cell_type": "code",
   "execution_count": 60,
   "metadata": {},
   "outputs": [
    {
     "name": "stdout",
     "output_type": "stream",
     "text": [
      "Current model is ridge\n",
      "\n",
      "Mape result is 121.18861316711882\n",
      "R-2 score is 0.32743683028596116\n",
      "\n",
      "Current model is linreg\n",
      "\n",
      "Mape result is 131.48661002178324\n",
      "R-2 score is 0.4355259160438263\n",
      "\n",
      "Current model is lasso\n",
      "\n",
      "Mape result is 100.0\n",
      "R-2 score is -0.025508685563474964\n",
      "\n",
      "Current model is huber\n",
      "\n",
      "Mape result is 231.34295044542594\n",
      "R-2 score is 0.4379089394900676\n",
      "\n"
     ]
    },
    {
     "name": "stderr",
     "output_type": "stream",
     "text": [
      "/Users/gost/opt/anaconda3/lib/python3.7/site-packages/sklearn/utils/validation.py:724: DataConversionWarning: A column-vector y was passed when a 1d array was expected. Please change the shape of y to (n_samples, ), for example using ravel().\n",
      "  y = column_or_1d(y, warn=True)\n",
      "/Users/gost/opt/anaconda3/lib/python3.7/site-packages/sklearn/utils/validation.py:724: DataConversionWarning: A column-vector y was passed when a 1d array was expected. Please change the shape of y to (n_samples, ), for example using ravel().\n",
      "  y = column_or_1d(y, warn=True)\n"
     ]
    }
   ],
   "source": [
    "for model in models:\n",
    "    \n",
    "    print('Current model is {0}'.format(model[0]))\n",
    "    print()\n",
    "    fit_predict(model[1], mape, X_train, X_valid, y_train, y_valid)\n",
    "    reg = model[1].fit(X_train, y_train)\n",
    "    pred = reg.predict(X_valid)\n",
    "    print('R-2 score is {0}'.format(r2_score(y_valid, pred)))\n",
    "    print()"
   ]
  },
  {
   "cell_type": "markdown",
   "metadata": {},
   "source": [
    "#### Стандартизация"
   ]
  },
  {
   "cell_type": "code",
   "execution_count": 61,
   "metadata": {},
   "outputs": [],
   "source": [
    "X, y = datasets.load_diabetes(return_X_y = True)\n",
    "X = pd.DataFrame(X, columns = cols)\n",
    "y = pd.Series(y, name = 'target')"
   ]
  },
  {
   "cell_type": "code",
   "execution_count": 62,
   "metadata": {},
   "outputs": [],
   "source": [
    "X_train, X_test, y_train, X_test = train_test_split(X, y, test_size = 0.2, random_state = 25)\n",
    "X_train, X_valid, y_train, y_valid = train_test_split(X_train, y_train, test_size = 0.2, random_state = 25)"
   ]
  },
  {
   "cell_type": "code",
   "execution_count": 63,
   "metadata": {},
   "outputs": [],
   "source": [
    "minmax = MinMaxScaler()\n",
    "\n",
    "y_train = y_train.values.reshape(-1, 1)\n",
    "y_valid = y_valid.values.reshape(-1, 1)\n",
    "\n",
    "y_train = minmax.fit_transform(y_train)\n",
    "y_valid = minmax.transform(y_valid)"
   ]
  },
  {
   "cell_type": "code",
   "execution_count": 64,
   "metadata": {},
   "outputs": [
    {
     "name": "stdout",
     "output_type": "stream",
     "text": [
      "Current model is ridge\n",
      "\n",
      "Mape result is 65.20970292444241\n",
      "R-2 score is 0.32743683028596116\n",
      "\n",
      "Current model is linreg\n",
      "\n",
      "Mape result is 56.45991651285753\n",
      "R-2 score is 0.43552591604382607\n",
      "\n",
      "Current model is lasso\n",
      "\n",
      "Mape result is 84.52718521922019\n",
      "R-2 score is -0.025508685563474964\n",
      "\n",
      "Current model is huber\n",
      "\n",
      "Mape result is 93.86333938893972\n",
      "R-2 score is 0.4380681813115671\n",
      "\n"
     ]
    },
    {
     "name": "stderr",
     "output_type": "stream",
     "text": [
      "/Users/gost/opt/anaconda3/lib/python3.7/site-packages/sklearn/utils/validation.py:724: DataConversionWarning: A column-vector y was passed when a 1d array was expected. Please change the shape of y to (n_samples, ), for example using ravel().\n",
      "  y = column_or_1d(y, warn=True)\n",
      "/Users/gost/opt/anaconda3/lib/python3.7/site-packages/sklearn/utils/validation.py:724: DataConversionWarning: A column-vector y was passed when a 1d array was expected. Please change the shape of y to (n_samples, ), for example using ravel().\n",
      "  y = column_or_1d(y, warn=True)\n"
     ]
    }
   ],
   "source": [
    "for model in models:\n",
    "    \n",
    "    print('Current model is {0}'.format(model[0]))\n",
    "    print()\n",
    "    fit_predict(model[1], mape, X_train, X_valid, y_train, y_valid)\n",
    "    reg = model[1].fit(X_train, y_train)\n",
    "    pred = reg.predict(X_valid)\n",
    "    print('R-2 score is {0}'.format(r2_score(y_valid, pred)))\n",
    "    print()"
   ]
  },
  {
   "cell_type": "markdown",
   "metadata": {},
   "source": [
    "## Вывод"
   ]
  },
  {
   "cell_type": "markdown",
   "metadata": {},
   "source": [
    "Пока модель показывает неутешительные результаты и максимальное значение R-squared, которое удалось достигнуть - около 0.43, что означает, что с помощью нашей модели мы объяснили только около 43% вариации в целевой переменной."
   ]
  }
 ],
 "metadata": {
  "kernelspec": {
   "display_name": "Python 3",
   "language": "python",
   "name": "python3"
  },
  "language_info": {
   "codemirror_mode": {
    "name": "ipython",
    "version": 3
   },
   "file_extension": ".py",
   "mimetype": "text/x-python",
   "name": "python",
   "nbconvert_exporter": "python",
   "pygments_lexer": "ipython3",
   "version": "3.7.4"
  }
 },
 "nbformat": 4,
 "nbformat_minor": 4
}
