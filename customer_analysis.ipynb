{
 "cells": [
  {
   "cell_type": "markdown",
   "metadata": {},
   "source": [
    "# Задачи\n",
    "\n",
    "<ol>\n",
    "    <li>Предложить метрику, описывающую сложность уровней, и рассчитать ее.</li>\n",
    "    <li>По результатам предыдущего задания разделить уровни на группы по сложности и сделать вывод о плотности расположения сложных уровней в игре.</li>\n",
    "    <li>Рассчитать \"воронку\" прохождения уровней новым пользователем после установки игры.</li>\n",
    "</ol>"
   ]
  },
  {
   "cell_type": "markdown",
   "metadata": {},
   "source": [
    "## Импорты"
   ]
  },
  {
   "cell_type": "code",
   "execution_count": 228,
   "metadata": {
    "ExecuteTime": {
     "end_time": "2020-05-19T06:27:30.715571Z",
     "start_time": "2020-05-19T06:27:27.126299Z"
    }
   },
   "outputs": [],
   "source": [
    "import pandas as pd\n",
    "import numpy as np\n",
    "import seaborn as sns\n",
    "import matplotlib.pyplot as plt"
   ]
  },
  {
   "cell_type": "markdown",
   "metadata": {},
   "source": [
    "## Загрузка данных"
   ]
  },
  {
   "cell_type": "code",
   "execution_count": 226,
   "metadata": {
    "ExecuteTime": {
     "end_time": "2020-05-19T06:28:29.815023Z",
     "start_time": "2020-05-19T06:27:30.723129Z"
    }
   },
   "outputs": [],
   "source": [
    "dataset = pd.read_csv('some_data.csv', sep = ';')"
   ]
  },
  {
   "cell_type": "markdown",
   "metadata": {},
   "source": [
    "## EDA"
   ]
  },
  {
   "cell_type": "code",
   "execution_count": 229,
   "metadata": {
    "ExecuteTime": {
     "end_time": "2020-05-19T06:28:30.096602Z",
     "start_time": "2020-05-19T06:28:29.860474Z"
    }
   },
   "outputs": [
    {
     "data": {
      "text/html": [
       "<div>\n",
       "<style scoped>\n",
       "    .dataframe tbody tr th:only-of-type {\n",
       "        vertical-align: middle;\n",
       "    }\n",
       "\n",
       "    .dataframe tbody tr th {\n",
       "        vertical-align: top;\n",
       "    }\n",
       "\n",
       "    .dataframe thead th {\n",
       "        text-align: right;\n",
       "    }\n",
       "</style>\n",
       "<table border=\"1\" class=\"dataframe\">\n",
       "  <thead>\n",
       "    <tr style=\"text-align: right;\">\n",
       "      <th></th>\n",
       "      <th>uid</th>\n",
       "      <th>action</th>\n",
       "      <th>level</th>\n",
       "      <th>event_time</th>\n",
       "    </tr>\n",
       "  </thead>\n",
       "  <tbody>\n",
       "    <tr>\n",
       "      <td>0</td>\n",
       "      <td>elljQ2EySG03MDU0MTE3MTAyMTE3MA</td>\n",
       "      <td>failed</td>\n",
       "      <td>113</td>\n",
       "      <td>1512086924640</td>\n",
       "    </tr>\n",
       "    <tr>\n",
       "      <td>1</td>\n",
       "      <td>elljQ2EySG03MDU0MTE3MTAyMTE3MA</td>\n",
       "      <td>failed</td>\n",
       "      <td>113</td>\n",
       "      <td>1512086924640</td>\n",
       "    </tr>\n",
       "    <tr>\n",
       "      <td>2</td>\n",
       "      <td>elljQ2EySG03MDU0MTE3MTAyMTE3MA</td>\n",
       "      <td>failed</td>\n",
       "      <td>113</td>\n",
       "      <td>1512086924640</td>\n",
       "    </tr>\n",
       "    <tr>\n",
       "      <td>3</td>\n",
       "      <td>elljQ2EySG03MDU0MTE3MTAyMTE3MA</td>\n",
       "      <td>failed</td>\n",
       "      <td>113</td>\n",
       "      <td>1512086924640</td>\n",
       "    </tr>\n",
       "    <tr>\n",
       "      <td>4</td>\n",
       "      <td>elljQ2EySG03MDU0MTE3MTAyMTE3MA</td>\n",
       "      <td>failed</td>\n",
       "      <td>113</td>\n",
       "      <td>1512086924640</td>\n",
       "    </tr>\n",
       "  </tbody>\n",
       "</table>\n",
       "</div>"
      ],
      "text/plain": [
       "                              uid  action  level     event_time\n",
       "0  elljQ2EySG03MDU0MTE3MTAyMTE3MA  failed    113  1512086924640\n",
       "1  elljQ2EySG03MDU0MTE3MTAyMTE3MA  failed    113  1512086924640\n",
       "2  elljQ2EySG03MDU0MTE3MTAyMTE3MA  failed    113  1512086924640\n",
       "3  elljQ2EySG03MDU0MTE3MTAyMTE3MA  failed    113  1512086924640\n",
       "4  elljQ2EySG03MDU0MTE3MTAyMTE3MA  failed    113  1512086924640"
      ]
     },
     "execution_count": 229,
     "metadata": {},
     "output_type": "execute_result"
    }
   ],
   "source": [
    "dataset.head()"
   ]
  },
  {
   "cell_type": "code",
   "execution_count": 230,
   "metadata": {
    "ExecuteTime": {
     "end_time": "2020-05-19T06:28:30.219650Z",
     "start_time": "2020-05-19T06:28:30.145027Z"
    }
   },
   "outputs": [
    {
     "name": "stdout",
     "output_type": "stream",
     "text": [
      "<class 'pandas.core.frame.DataFrame'>\n",
      "RangeIndex: 22231214 entries, 0 to 22231213\n",
      "Data columns (total 4 columns):\n",
      "uid           object\n",
      "action        object\n",
      "level         int64\n",
      "event_time    int64\n",
      "dtypes: int64(2), object(2)\n",
      "memory usage: 678.4+ MB\n"
     ]
    }
   ],
   "source": [
    "dataset.info()"
   ]
  },
  {
   "cell_type": "code",
   "execution_count": 231,
   "metadata": {
    "ExecuteTime": {
     "end_time": "2020-05-19T06:28:48.890451Z",
     "start_time": "2020-05-19T06:28:39.633266Z"
    }
   },
   "outputs": [],
   "source": [
    "dataset['action'] = dataset['action'].astype('category')\n",
    "dataset['event_time'] = dataset['event_time'] * 1000\n",
    "dataset['event_time'] = pd.to_datetime(dataset['event_time'], unit = 'us', origin = 'unix')"
   ]
  },
  {
   "cell_type": "markdown",
   "metadata": {},
   "source": [
    "### Общее количество игроков"
   ]
  },
  {
   "cell_type": "code",
   "execution_count": 232,
   "metadata": {
    "ExecuteTime": {
     "end_time": "2020-05-19T06:29:26.485134Z",
     "start_time": "2020-05-19T06:29:15.827353Z"
    }
   },
   "outputs": [
    {
     "data": {
      "text/plain": [
       "196088"
      ]
     },
     "execution_count": 232,
     "metadata": {},
     "output_type": "execute_result"
    }
   ],
   "source": [
    "dataset['uid'].nunique()"
   ]
  },
  {
   "cell_type": "markdown",
   "metadata": {},
   "source": [
    "### Проверка на наличие пропусков\n",
    "\n",
    "Пропусков в данных типа NaN нет."
   ]
  },
  {
   "cell_type": "code",
   "execution_count": 233,
   "metadata": {
    "ExecuteTime": {
     "end_time": "2020-05-19T06:29:31.488821Z",
     "start_time": "2020-05-19T06:29:26.503815Z"
    }
   },
   "outputs": [
    {
     "data": {
      "text/plain": [
       "uid           0\n",
       "action        0\n",
       "level         0\n",
       "event_time    0\n",
       "dtype: int64"
      ]
     },
     "execution_count": 233,
     "metadata": {},
     "output_type": "execute_result"
    }
   ],
   "source": [
    "dataset.isnull().sum()"
   ]
  },
  {
   "cell_type": "markdown",
   "metadata": {},
   "source": [
    "### Проверка на наличие дубликатов\n",
    "\n",
    "Дубликатов в данных очень и очень много, больше половины. Так как совпадает абсолютно все, даже время вплоть до микросекунд, то я предположу, что это задвоение данных и выброшу все повторы из данных. Хотя, количество таких задвоений очень смущает и заставляет сомневаться, что это случайно. На этой стадии я бы обратился к автору данных, чтобы узнать что и как, вдруг поможет сориентироваться."
   ]
  },
  {
   "cell_type": "code",
   "execution_count": 234,
   "metadata": {
    "ExecuteTime": {
     "start_time": "2020-05-19T06:41:20.529Z"
    }
   },
   "outputs": [],
   "source": [
    "dataset.duplicated().sum()\n",
    "duplic_pct = dataset.duplicated().sum() / len(dataset)"
   ]
  },
  {
   "cell_type": "code",
   "execution_count": 235,
   "metadata": {
    "ExecuteTime": {
     "end_time": "2020-05-19T06:40:42.399119Z",
     "start_time": "2020-05-19T06:40:42.299588Z"
    }
   },
   "outputs": [
    {
     "name": "stdout",
     "output_type": "stream",
     "text": [
      "Процент дубликатов в данных: 53.27%\n"
     ]
    }
   ],
   "source": [
    "print('Процент дубликатов в данных: {0:.2%}'.format(duplic_pct))"
   ]
  },
  {
   "cell_type": "code",
   "execution_count": 236,
   "metadata": {
    "ExecuteTime": {
     "start_time": "2020-05-19T06:40:56.842Z"
    }
   },
   "outputs": [],
   "source": [
    "dataset = dataset.drop_duplicates()"
   ]
  },
  {
   "cell_type": "markdown",
   "metadata": {},
   "source": [
    "### Распределение общего количества попыток по уровням"
   ]
  },
  {
   "cell_type": "code",
   "execution_count": 237,
   "metadata": {
    "ExecuteTime": {
     "end_time": "2020-05-19T06:20:41.939140Z",
     "start_time": "2020-05-19T06:20:36.932042Z"
    }
   },
   "outputs": [
    {
     "data": {
      "text/html": [
       "<div>\n",
       "<style scoped>\n",
       "    .dataframe tbody tr th:only-of-type {\n",
       "        vertical-align: middle;\n",
       "    }\n",
       "\n",
       "    .dataframe tbody tr th {\n",
       "        vertical-align: top;\n",
       "    }\n",
       "\n",
       "    .dataframe thead th {\n",
       "        text-align: right;\n",
       "    }\n",
       "</style>\n",
       "<table border=\"1\" class=\"dataframe\">\n",
       "  <thead>\n",
       "    <tr style=\"text-align: right;\">\n",
       "      <th></th>\n",
       "      <th>action</th>\n",
       "    </tr>\n",
       "  </thead>\n",
       "  <tbody>\n",
       "    <tr>\n",
       "      <td>0</td>\n",
       "      <td>86321</td>\n",
       "    </tr>\n",
       "    <tr>\n",
       "      <td>1</td>\n",
       "      <td>86175</td>\n",
       "    </tr>\n",
       "    <tr>\n",
       "      <td>2</td>\n",
       "      <td>83067</td>\n",
       "    </tr>\n",
       "    <tr>\n",
       "      <td>3</td>\n",
       "      <td>80836</td>\n",
       "    </tr>\n",
       "    <tr>\n",
       "      <td>4</td>\n",
       "      <td>80399</td>\n",
       "    </tr>\n",
       "    <tr>\n",
       "      <td>...</td>\n",
       "      <td>...</td>\n",
       "    </tr>\n",
       "    <tr>\n",
       "      <td>495</td>\n",
       "      <td>963</td>\n",
       "    </tr>\n",
       "    <tr>\n",
       "      <td>496</td>\n",
       "      <td>951</td>\n",
       "    </tr>\n",
       "    <tr>\n",
       "      <td>497</td>\n",
       "      <td>863</td>\n",
       "    </tr>\n",
       "    <tr>\n",
       "      <td>498</td>\n",
       "      <td>832</td>\n",
       "    </tr>\n",
       "    <tr>\n",
       "      <td>499</td>\n",
       "      <td>779</td>\n",
       "    </tr>\n",
       "  </tbody>\n",
       "</table>\n",
       "<p>500 rows × 1 columns</p>\n",
       "</div>"
      ],
      "text/plain": [
       "     action\n",
       "0     86321\n",
       "1     86175\n",
       "2     83067\n",
       "3     80836\n",
       "4     80399\n",
       "..      ...\n",
       "495     963\n",
       "496     951\n",
       "497     863\n",
       "498     832\n",
       "499     779\n",
       "\n",
       "[500 rows x 1 columns]"
      ]
     },
     "execution_count": 237,
     "metadata": {},
     "output_type": "execute_result"
    }
   ],
   "source": [
    "dataset.groupby(by = ['level']).agg({'action' : 'count'}).sort_values(by = ['action'], ascending = False).reset_index(drop = True)"
   ]
  },
  {
   "cell_type": "markdown",
   "metadata": {},
   "source": [
    "### Комментарий\n",
    "\n",
    "Здесь все логично: количество попыток снижается с ростом номера уровня. Много игроков пробуют игру, но мало кто доходит до конца и вообще продолжает."
   ]
  },
  {
   "cell_type": "markdown",
   "metadata": {},
   "source": [
    "## Решение задачи 1\n",
    "\n",
    "Предложить метрику, описывающую сложность уровней."
   ]
  },
  {
   "cell_type": "code",
   "execution_count": 238,
   "metadata": {
    "ExecuteTime": {
     "end_time": "2020-05-19T06:20:55.706037Z",
     "start_time": "2020-05-19T06:20:49.954208Z"
    }
   },
   "outputs": [],
   "source": [
    "dataset_1 = dataset.pivot_table(index = 'level', columns = 'action', values = 'event_time', aggfunc = 'count')"
   ]
  },
  {
   "cell_type": "code",
   "execution_count": 239,
   "metadata": {
    "ExecuteTime": {
     "end_time": "2020-05-19T06:20:55.722208Z",
     "start_time": "2020-05-19T06:20:55.713392Z"
    }
   },
   "outputs": [],
   "source": [
    "dataset_1.columns = dataset_1.columns.add_categories('total_attempts')"
   ]
  },
  {
   "cell_type": "code",
   "execution_count": 240,
   "metadata": {
    "ExecuteTime": {
     "end_time": "2020-05-19T06:20:55.749677Z",
     "start_time": "2020-05-19T06:20:55.727103Z"
    }
   },
   "outputs": [],
   "source": [
    "dataset_1['total_attempts'] = dataset_1['completed'] + dataset_1['failed']"
   ]
  },
  {
   "cell_type": "markdown",
   "metadata": {},
   "source": [
    "### Общий процент успешных прохождений и неуспешных прохождений для каждого уровня"
   ]
  },
  {
   "cell_type": "code",
   "execution_count": 241,
   "metadata": {
    "ExecuteTime": {
     "end_time": "2020-05-19T06:20:55.766082Z",
     "start_time": "2020-05-19T06:20:55.752681Z"
    }
   },
   "outputs": [],
   "source": [
    "dataset_1.columns = dataset_1.columns.add_categories(['level_pass_rate', 'level_fail_rate'])"
   ]
  },
  {
   "cell_type": "code",
   "execution_count": 242,
   "metadata": {
    "ExecuteTime": {
     "end_time": "2020-05-19T06:20:55.787537Z",
     "start_time": "2020-05-19T06:20:55.769693Z"
    }
   },
   "outputs": [],
   "source": [
    "dataset_1['level_pass_rate'] = dataset_1['completed'] / dataset_1['total_attempts']\n",
    "dataset_1['level_fail_rate'] = dataset_1['failed'] / dataset_1['total_attempts']"
   ]
  },
  {
   "cell_type": "markdown",
   "metadata": {},
   "source": [
    "### Посмотрим на каких уровнях было больше всего неудачных попыток из общего числа попыток\n",
    "\n",
    "Видим, что хуже всего даются уровни, выведенные ниже. Интересно, что это, за исключением уровня 465, не самые последние уровни. Вероятно, те, кто добираются до уровней 300+ уже обладают высоким навыком в игре и мотивацией для продолжения игры, и им даются задания любого уровня."
   ]
  },
  {
   "cell_type": "code",
   "execution_count": 243,
   "metadata": {},
   "outputs": [
    {
     "data": {
      "text/html": [
       "<div>\n",
       "<style scoped>\n",
       "    .dataframe tbody tr th:only-of-type {\n",
       "        vertical-align: middle;\n",
       "    }\n",
       "\n",
       "    .dataframe tbody tr th {\n",
       "        vertical-align: top;\n",
       "    }\n",
       "\n",
       "    .dataframe thead th {\n",
       "        text-align: right;\n",
       "    }\n",
       "</style>\n",
       "<table border=\"1\" class=\"dataframe\">\n",
       "  <thead>\n",
       "    <tr style=\"text-align: right;\">\n",
       "      <th>action</th>\n",
       "      <th>completed</th>\n",
       "      <th>failed</th>\n",
       "      <th>total_attempts</th>\n",
       "      <th>level_pass_rate</th>\n",
       "      <th>level_fail_rate</th>\n",
       "    </tr>\n",
       "    <tr>\n",
       "      <th>level</th>\n",
       "      <th></th>\n",
       "      <th></th>\n",
       "      <th></th>\n",
       "      <th></th>\n",
       "      <th></th>\n",
       "    </tr>\n",
       "  </thead>\n",
       "  <tbody>\n",
       "    <tr>\n",
       "      <td>267</td>\n",
       "      <td>4006</td>\n",
       "      <td>21966</td>\n",
       "      <td>25972</td>\n",
       "      <td>0.154243</td>\n",
       "      <td>0.845757</td>\n",
       "    </tr>\n",
       "    <tr>\n",
       "      <td>465</td>\n",
       "      <td>532</td>\n",
       "      <td>2755</td>\n",
       "      <td>3287</td>\n",
       "      <td>0.161850</td>\n",
       "      <td>0.838150</td>\n",
       "    </tr>\n",
       "    <tr>\n",
       "      <td>166</td>\n",
       "      <td>11428</td>\n",
       "      <td>58996</td>\n",
       "      <td>70424</td>\n",
       "      <td>0.162274</td>\n",
       "      <td>0.837726</td>\n",
       "    </tr>\n",
       "    <tr>\n",
       "      <td>130</td>\n",
       "      <td>14513</td>\n",
       "      <td>71808</td>\n",
       "      <td>86321</td>\n",
       "      <td>0.168128</td>\n",
       "      <td>0.831872</td>\n",
       "    </tr>\n",
       "    <tr>\n",
       "      <td>88</td>\n",
       "      <td>14849</td>\n",
       "      <td>71326</td>\n",
       "      <td>86175</td>\n",
       "      <td>0.172312</td>\n",
       "      <td>0.827688</td>\n",
       "    </tr>\n",
       "    <tr>\n",
       "      <td>85</td>\n",
       "      <td>14589</td>\n",
       "      <td>68478</td>\n",
       "      <td>83067</td>\n",
       "      <td>0.175629</td>\n",
       "      <td>0.824371</td>\n",
       "    </tr>\n",
       "    <tr>\n",
       "      <td>169</td>\n",
       "      <td>11131</td>\n",
       "      <td>48460</td>\n",
       "      <td>59591</td>\n",
       "      <td>0.186790</td>\n",
       "      <td>0.813210</td>\n",
       "    </tr>\n",
       "    <tr>\n",
       "      <td>67</td>\n",
       "      <td>14327</td>\n",
       "      <td>61794</td>\n",
       "      <td>76121</td>\n",
       "      <td>0.188214</td>\n",
       "      <td>0.811786</td>\n",
       "    </tr>\n",
       "    <tr>\n",
       "      <td>186</td>\n",
       "      <td>9034</td>\n",
       "      <td>38538</td>\n",
       "      <td>47572</td>\n",
       "      <td>0.189902</td>\n",
       "      <td>0.810098</td>\n",
       "    </tr>\n",
       "    <tr>\n",
       "      <td>199</td>\n",
       "      <td>8023</td>\n",
       "      <td>33813</td>\n",
       "      <td>41836</td>\n",
       "      <td>0.191773</td>\n",
       "      <td>0.808227</td>\n",
       "    </tr>\n",
       "  </tbody>\n",
       "</table>\n",
       "</div>"
      ],
      "text/plain": [
       "action  completed  failed  total_attempts  level_pass_rate  level_fail_rate\n",
       "level                                                                      \n",
       "267          4006   21966           25972         0.154243         0.845757\n",
       "465           532    2755            3287         0.161850         0.838150\n",
       "166         11428   58996           70424         0.162274         0.837726\n",
       "130         14513   71808           86321         0.168128         0.831872\n",
       "88          14849   71326           86175         0.172312         0.827688\n",
       "85          14589   68478           83067         0.175629         0.824371\n",
       "169         11131   48460           59591         0.186790         0.813210\n",
       "67          14327   61794           76121         0.188214         0.811786\n",
       "186          9034   38538           47572         0.189902         0.810098\n",
       "199          8023   33813           41836         0.191773         0.808227"
      ]
     },
     "execution_count": 243,
     "metadata": {},
     "output_type": "execute_result"
    }
   ],
   "source": [
    "dataset_1.sort_values(by = 'level_fail_rate', ascending = False).head(10)"
   ]
  },
  {
   "cell_type": "markdown",
   "metadata": {},
   "source": [
    "### Посмотрим с какими уровнями игроки лучше всего справлялись\n",
    "\n",
    "Здесь цифры кажется интуитивно правильными, так как самый первый уровень - самый легкий и несколько последующих тоже призваны заинтересовать игрока, а не снизить его мотивацию и желание играть."
   ]
  },
  {
   "cell_type": "code",
   "execution_count": 244,
   "metadata": {},
   "outputs": [
    {
     "data": {
      "text/html": [
       "<div>\n",
       "<style scoped>\n",
       "    .dataframe tbody tr th:only-of-type {\n",
       "        vertical-align: middle;\n",
       "    }\n",
       "\n",
       "    .dataframe tbody tr th {\n",
       "        vertical-align: top;\n",
       "    }\n",
       "\n",
       "    .dataframe thead th {\n",
       "        text-align: right;\n",
       "    }\n",
       "</style>\n",
       "<table border=\"1\" class=\"dataframe\">\n",
       "  <thead>\n",
       "    <tr style=\"text-align: right;\">\n",
       "      <th>action</th>\n",
       "      <th>completed</th>\n",
       "      <th>failed</th>\n",
       "      <th>total_attempts</th>\n",
       "      <th>level_pass_rate</th>\n",
       "      <th>level_fail_rate</th>\n",
       "    </tr>\n",
       "    <tr>\n",
       "      <th>level</th>\n",
       "      <th></th>\n",
       "      <th></th>\n",
       "      <th></th>\n",
       "      <th></th>\n",
       "      <th></th>\n",
       "    </tr>\n",
       "  </thead>\n",
       "  <tbody>\n",
       "    <tr>\n",
       "      <td>1</td>\n",
       "      <td>25096</td>\n",
       "      <td>17</td>\n",
       "      <td>25113</td>\n",
       "      <td>0.999323</td>\n",
       "      <td>0.000677</td>\n",
       "    </tr>\n",
       "    <tr>\n",
       "      <td>4</td>\n",
       "      <td>21322</td>\n",
       "      <td>281</td>\n",
       "      <td>21603</td>\n",
       "      <td>0.986993</td>\n",
       "      <td>0.013007</td>\n",
       "    </tr>\n",
       "    <tr>\n",
       "      <td>2</td>\n",
       "      <td>22436</td>\n",
       "      <td>791</td>\n",
       "      <td>23227</td>\n",
       "      <td>0.965945</td>\n",
       "      <td>0.034055</td>\n",
       "    </tr>\n",
       "    <tr>\n",
       "      <td>3</td>\n",
       "      <td>21687</td>\n",
       "      <td>1727</td>\n",
       "      <td>23414</td>\n",
       "      <td>0.926241</td>\n",
       "      <td>0.073759</td>\n",
       "    </tr>\n",
       "    <tr>\n",
       "      <td>5</td>\n",
       "      <td>20768</td>\n",
       "      <td>4863</td>\n",
       "      <td>25631</td>\n",
       "      <td>0.810269</td>\n",
       "      <td>0.189731</td>\n",
       "    </tr>\n",
       "    <tr>\n",
       "      <td>12</td>\n",
       "      <td>17172</td>\n",
       "      <td>4033</td>\n",
       "      <td>21205</td>\n",
       "      <td>0.809809</td>\n",
       "      <td>0.190191</td>\n",
       "    </tr>\n",
       "    <tr>\n",
       "      <td>22</td>\n",
       "      <td>15014</td>\n",
       "      <td>3858</td>\n",
       "      <td>18872</td>\n",
       "      <td>0.795570</td>\n",
       "      <td>0.204430</td>\n",
       "    </tr>\n",
       "    <tr>\n",
       "      <td>6</td>\n",
       "      <td>20027</td>\n",
       "      <td>5499</td>\n",
       "      <td>25526</td>\n",
       "      <td>0.784573</td>\n",
       "      <td>0.215427</td>\n",
       "    </tr>\n",
       "    <tr>\n",
       "      <td>8</td>\n",
       "      <td>18439</td>\n",
       "      <td>5275</td>\n",
       "      <td>23714</td>\n",
       "      <td>0.777558</td>\n",
       "      <td>0.222442</td>\n",
       "    </tr>\n",
       "    <tr>\n",
       "      <td>9</td>\n",
       "      <td>18129</td>\n",
       "      <td>5503</td>\n",
       "      <td>23632</td>\n",
       "      <td>0.767138</td>\n",
       "      <td>0.232862</td>\n",
       "    </tr>\n",
       "  </tbody>\n",
       "</table>\n",
       "</div>"
      ],
      "text/plain": [
       "action  completed  failed  total_attempts  level_pass_rate  level_fail_rate\n",
       "level                                                                      \n",
       "1           25096      17           25113         0.999323         0.000677\n",
       "4           21322     281           21603         0.986993         0.013007\n",
       "2           22436     791           23227         0.965945         0.034055\n",
       "3           21687    1727           23414         0.926241         0.073759\n",
       "5           20768    4863           25631         0.810269         0.189731\n",
       "12          17172    4033           21205         0.809809         0.190191\n",
       "22          15014    3858           18872         0.795570         0.204430\n",
       "6           20027    5499           25526         0.784573         0.215427\n",
       "8           18439    5275           23714         0.777558         0.222442\n",
       "9           18129    5503           23632         0.767138         0.232862"
      ]
     },
     "execution_count": 244,
     "metadata": {},
     "output_type": "execute_result"
    }
   ],
   "source": [
    "dataset_1.sort_values(by = 'level_pass_rate', ascending = False).head(10)"
   ]
  },
  {
   "cell_type": "markdown",
   "metadata": {},
   "source": [
    "## Промежуточный вывод по заданию 1\n",
    "\n",
    "В принципе, такой метрики (отношение числа успешных / неуспешных попыток к общему количеству попыток на уровне) должно быть достаточно, чтобы определить сложность уровня. "
   ]
  },
  {
   "cell_type": "markdown",
   "metadata": {
    "ExecuteTime": {
     "end_time": "2020-05-19T06:10:51.378469Z",
     "start_time": "2020-05-19T06:10:51.354956Z"
    }
   },
   "source": [
    "### Найдем уровни, на которых игроки прекращали игру\n",
    "\n",
    "Найдем уровни, которые игроки ни разу не проходили, а предполагая последовательную манеру игры это значит, что игрок не продвинулся дальше и завершил игру, \"встав\" на этом уровне."
   ]
  },
  {
   "cell_type": "code",
   "execution_count": 245,
   "metadata": {},
   "outputs": [],
   "source": [
    "dataset_temp = dataset.groupby(['uid', 'level', 'action'], sort = False).agg({'event_time': 'count'}).unstack(2)\n",
    "dataset_temp.columns = ['failed', 'completed']\n",
    "dataset_temp = dataset_temp.fillna(0)\n",
    "dataset_temp['failed'] = dataset_temp['failed'].astype(int)\n",
    "dataset_temp['completed'] = dataset_temp['completed'].astype(int)"
   ]
  },
  {
   "cell_type": "code",
   "execution_count": 246,
   "metadata": {},
   "outputs": [],
   "source": [
    "dataset_2 = dataset_temp[dataset_temp.completed == 0].reset_index().groupby('level').agg({'completed' : 'count'}).sort_values(by = 'completed', ascending = False)\n",
    "dataset_2['fail_share'] = (dataset_2['completed'] / dataset_2['completed'].sum()) * 100\n",
    "dataset_2.columns = ['fails', 'fail_share']"
   ]
  },
  {
   "cell_type": "markdown",
   "metadata": {},
   "source": [
    "### Замечание\n",
    "\n",
    "Ниже мы увидим, что все уровни были пройдены каким-то из игроков как минимум один раз. А некоторые уровни и больше. Возможно, те, что были пройдены больше двух раз являются самыми интересными, что можно отметить разработчикам и попробовать понять, что у них общего, что зацепило и так понравилось игрокам. Может сценарий уровня, персонажи, задания или еще что-то."
   ]
  },
  {
   "cell_type": "code",
   "execution_count": 247,
   "metadata": {},
   "outputs": [
    {
     "data": {
      "text/plain": [
       "1    3330570\n",
       "0     395437\n",
       "2      77522\n",
       "3        312\n",
       "4         14\n",
       "5          3\n",
       "Name: completed, dtype: int64"
      ]
     },
     "execution_count": 247,
     "metadata": {},
     "output_type": "execute_result"
    }
   ],
   "source": [
    "dataset_temp.completed.value_counts()"
   ]
  },
  {
   "cell_type": "markdown",
   "metadata": {},
   "source": [
    "### Объяснение столбцов fails и fail_share\n",
    "\n",
    "fails - общее количество игроков, которые на данном уровне бросали игру \n",
    "<br>\n",
    "fail_rate - доля уровня(%) во всем пуле уровней, на которых игроки заканчивали игру. Например, если у уровня 88 fail_share = 1.2459%, то на этом уровне заканчивали игру больше одного процента от всех бросивших игру. Логика такая: чем чаще на уровне бросают игру, тем сложнее он дается для игроков, исключая, может быть, уровень 1, на котором игрок может зайти в игру и почти сразу выйти, даже не попытавшись пройти уровень до конца, что тоже в нашей таблице будет засчитано как fail."
   ]
  },
  {
   "cell_type": "markdown",
   "metadata": {},
   "source": [
    "## Вывод по заданию 1"
   ]
  },
  {
   "cell_type": "markdown",
   "metadata": {},
   "source": [
    "Я выбрал два варианта подсчета сложности уровня:\n",
    "<br>\n",
    "<br>\n",
    "Первый: (отношение числа успешных / неуспешных попыток к общему количеству попыток на уровне)\n",
    "<br>\n",
    "<br>\n",
    "Второй: Доля каждого уровня, после которого игрок прекращал играть, в общем количестве не законченных до конца игр."
   ]
  },
  {
   "cell_type": "markdown",
   "metadata": {},
   "source": [
    "## Решение задачи 2\n",
    "\n",
    "По результатам предыдущего задания разделить уровни на группы по сложности и сделать вывод о плотности расположения сложных уровней в игре."
   ]
  },
  {
   "cell_type": "markdown",
   "metadata": {},
   "source": [
    "### Нарисуем график распределения процента успешных попыток на уровнях\n",
    "\n",
    "Видим, что график напоминает смещенное нормальное распределение с коротким левым хвостом и длинным правым. Уровней, которые имеют очень высокий процент успешных попыток, много, а тех, что имеют очень низкий процент - мало. Здесь примерно можно разбить данные на три больших группы: очень сложные уровни с процентом < 0.2, средние с процентом от 0.2 до 0.6 и несложные с процентом от 0.6 до 1. Среднюю группы можно еще подразбить на несколько категорий."
   ]
  },
  {
   "cell_type": "code",
   "execution_count": 248,
   "metadata": {},
   "outputs": [
    {
     "data": {
      "image/png": "[encoded data removed]",
      "text/plain": [
       "<Figure size 432x288 with 1 Axes>"
      ]
     },
     "metadata": {
      "needs_background": "light"
     },
     "output_type": "display_data"
    }
   ],
   "source": [
    "sns.distplot(dataset_1['level_pass_rate'], bins = 20)\n",
    "plt.show()"
   ]
  },
  {
   "cell_type": "markdown",
   "metadata": {},
   "source": [
    "### Нарисуем графики распределения количества выбывших игроков\n",
    "\n",
    "Видим, что график напоминает смещенное нормальное распределение с коротким левым хвостом и длинным правым. Видим, что на некоторых уровнях до 200 количество выбывших игроков может достигать 1.2% , то есть много игроков после этих бросили игру. Проблема в том, что график ниже не дает понимания плотности распределения выбывших игроков по уровням."
   ]
  },
  {
   "cell_type": "code",
   "execution_count": 249,
   "metadata": {},
   "outputs": [
    {
     "data": {
      "image/png": "[encoded data removed]",
      "text/plain": [
       "<Figure size 432x288 with 1 Axes>"
      ]
     },
     "metadata": {
      "needs_background": "light"
     },
     "output_type": "display_data"
    }
   ],
   "source": [
    "plt.scatter(x = dataset_2.index, y = dataset_2.fail_share)\n",
    "plt.xticks(np.linspace(0, 500, 11))\n",
    "plt.xlabel('level')\n",
    "plt.ylabel('fail_share')\n",
    "plt.show()"
   ]
  },
  {
   "cell_type": "markdown",
   "metadata": {},
   "source": [
    "### Кумулятивный график для количества выбывших игроков по уровням"
   ]
  },
  {
   "cell_type": "code",
   "execution_count": 250,
   "metadata": {},
   "outputs": [
    {
     "data": {
      "image/png": "[encoded data removed]",
      "text/plain": [
       "<Figure size 432x288 with 1 Axes>"
      ]
     },
     "metadata": {
      "needs_background": "light"
     },
     "output_type": "display_data"
    }
   ],
   "source": [
    "dataset_2 = dataset_2.sort_index()\n",
    "cumulative_dataset_2 = np.cumsum(dataset_2[['fail_share']])\n",
    "\n",
    "plt.plot(dataset_2.index, cumulative_dataset_2, c='blue')\n",
    "plt.xlabel('level')\n",
    "plt.ylabel('cumulative fail_share')\n",
    "plt.show()"
   ]
  },
  {
   "cell_type": "markdown",
   "metadata": {},
   "source": [
    "### Промежуточный вывод по графикам\n",
    "\n",
    "Видно, что уровни примерно от 50 до 200 обладают наибольшим количеством неудачных попыток среди всех. Заметим, что количество неудачных попыток постепенно снижается, начиная примерно с 200 уровня и до самого последнего. Основная причина, количество пользователей, дошедших до данного уровня, вторая - вероятно, скилл дошедших до этого места игроков в среднем выше, чем у других игроков, но эту гипотезу следует проверить"
   ]
  },
  {
   "cell_type": "markdown",
   "metadata": {},
   "source": [
    "## Разделение уровней по сложности\n",
    "\n",
    "Разделить уровни по сложности можно как по проценту успешных / неуспешных попыток, так и по тому, насколько часто на определенном уровне игрок переставал играть, что выражено в показателе fail_rate."
   ]
  },
  {
   "cell_type": "code",
   "execution_count": 251,
   "metadata": {},
   "outputs": [],
   "source": [
    "def level_grader(dataset, col_name, bottom_outliers = None, top_outliers = None):\n",
    "    \n",
    "    if bottom_outliers is not None:\n",
    "        \n",
    "        dataset.loc[dataset[col_name] <= bottom_outliers, 'level_difficulty'] = \"Слишком легкий\"\n",
    "        dataset.loc[(dataset[col_name].quantile(0.5) >= dataset[col_name]) & (dataset[col_name] > bottom_outliers), 'level_difficulty'] = \"Легкий\"\n",
    "        dataset.loc[(dataset[col_name].quantile(0.75) >= dataset[col_name]) & (dataset[col_name] > dataset[col_name].quantile(0.5)), 'level_difficulty'] = \"Средний\"\n",
    "        dataset.loc[dataset[col_name] > dataset[col_name].quantile(0.75), 'level_difficulty'] = \"Сложный\"\n",
    "        \n",
    "    if top_outliers is not None:\n",
    "        \n",
    "        dataset.loc[dataset[col_name].quantile(0.5) >= dataset[col_name], 'level_difficulty'] = \"Легкий\"\n",
    "        dataset.loc[(dataset[col_name].quantile(0.75) >= dataset[col_name]) & (dataset[col_name] > dataset[col_name].quantile(0.5)), 'level_difficulty'] = \"Средний\"\n",
    "        dataset.loc[(dataset[col_name] > dataset[col_name].quantile(0.75)) & (dataset[col_name] <= top_outliers), 'level_difficulty'] = \"Сложный\"\n",
    "        dataset.loc[dataset[col_name] > top_outliers, 'level_difficulty'] = \"Очень сложный\"\n",
    "    \n",
    "    return dataset"
   ]
  },
  {
   "cell_type": "markdown",
   "metadata": {},
   "source": [
    "### Разделение по уровням 1: Разделение по проценту успешных / неуспешных попыток\n",
    "\n",
    "Из графика видим несколько выбросов с низким процентом \"завалов\", поэтому разделим данные на группы по следующему показателю level_fail_rate:\n",
    "<br>\n",
    "Слишком легкие : level_fail_rate <= bottom_outliers\n",
    "<br>\n",
    "Легкие : Медиана >= level_fail_rate > bottom_outliers\n",
    "<br>\n",
    "Средние :  0.75 квантиль >= level_fail_rate > Медиана\n",
    "<br>\n",
    "Сложные :  level_fail_rate > 0.75 квантиль "
   ]
  },
  {
   "cell_type": "code",
   "execution_count": 275,
   "metadata": {},
   "outputs": [
    {
     "data": {
      "image/png": "[encoded data removed]",
      "text/plain": [
       "<Figure size 432x288 with 1 Axes>"
      ]
     },
     "metadata": {
      "needs_background": "light"
     },
     "output_type": "display_data"
    }
   ],
   "source": [
    "dataset_1.level_fail_rate.plot(kind = 'box')\n",
    "plt.show()"
   ]
  },
  {
   "cell_type": "code",
   "execution_count": 253,
   "metadata": {},
   "outputs": [],
   "source": [
    "dataset_1_outliers = dataset_1.level_fail_rate.quantile(0.25) - 1.5 * (dataset_1.level_fail_rate.quantile(0.75) - dataset_1.level_fail_rate.quantile(0.25))"
   ]
  },
  {
   "cell_type": "code",
   "execution_count": 254,
   "metadata": {},
   "outputs": [],
   "source": [
    "dataset_1.columns = dataset_1.columns.add_categories(['level_difficulty'])"
   ]
  },
  {
   "cell_type": "code",
   "execution_count": 255,
   "metadata": {},
   "outputs": [],
   "source": [
    "dataset_1 = level_grader(dataset_1, 'level_fail_rate', bottom_outliers = dataset_1_outliers)"
   ]
  },
  {
   "cell_type": "code",
   "execution_count": 274,
   "metadata": {},
   "outputs": [
    {
     "data": {
      "image/png": "[encoded data removed]",
      "text/plain": [
       "<Figure size 432x288 with 1 Axes>"
      ]
     },
     "metadata": {
      "needs_background": "light"
     },
     "output_type": "display_data"
    }
   ],
   "source": [
    "plt.hist(dataset_1.level_difficulty)\n",
    "plt.show()"
   ]
  },
  {
   "cell_type": "code",
   "execution_count": 273,
   "metadata": {},
   "outputs": [
    {
     "data": {
      "image/png": "[encoded data removed]",
      "text/plain": [
       "<Figure size 432x288 with 1 Axes>"
      ]
     },
     "metadata": {
      "needs_background": "light"
     },
     "output_type": "display_data"
    }
   ],
   "source": [
    "plt.scatter(x = list(dataset_1[dataset_1.level_difficulty == 'Сложный'].index), y = dataset_1.loc[dataset_1.level_difficulty == 'Сложный', 'level_difficulty'])\n",
    "plt.xlabel('level')\n",
    "plt.show()"
   ]
  },
  {
   "cell_type": "code",
   "execution_count": 258,
   "metadata": {},
   "outputs": [
    {
     "name": "stdout",
     "output_type": "stream",
     "text": [
      "Первое разделение по уровням сложности:\n",
      "\n"
     ]
    },
    {
     "data": {
      "text/plain": [
       "Легкий            240\n",
       "Средний           125\n",
       "Сложный           125\n",
       "Слишком легкий     10\n",
       "Name: level_difficulty, dtype: int64"
      ]
     },
     "execution_count": 258,
     "metadata": {},
     "output_type": "execute_result"
    }
   ],
   "source": [
    "print('Первое разделение по уровням сложности:')\n",
    "print()\n",
    "dataset_1.level_difficulty.value_counts()"
   ]
  },
  {
   "cell_type": "markdown",
   "metadata": {},
   "source": [
    "### Вывод по разделению 1"
   ]
  },
  {
   "cell_type": "markdown",
   "metadata": {},
   "source": [
    "Получилось, что распределение сложных уровней по игре довольно ровное. Таким образом, получается, что на протяжении всей игры уровни попроще перемежаются с уровнями посложнее. Мы не видим, например, распределения, где уровни до 100 очень простые, а потом все сложнее и сложнее, потому что в процессе игры отсеиваются слабые или немотивированные игроки и на уровне 47 процент неуспешных попыток может быть примерно таким же, как на уровне 499. "
   ]
  },
  {
   "cell_type": "markdown",
   "metadata": {},
   "source": [
    "### Разделение по уровням 2: по доле уровня в общем проценте провалов\n",
    "\n",
    "Из графика видим несколько выбросов с низким процентом \"завалов\", поэтому разделим данные на группы по следующему показателю level_fail_rate:\n",
    "<br>\n",
    "Слишком легкие : fail_share <= top_outliers\n",
    "<br>\n",
    "Легкие : Медиана >= fail_share > top_outliers\n",
    "<br>\n",
    "Средние :  0.75 квантиль >= fail_share > Медиана\n",
    "<br>\n",
    "Сложные :  fail_share > 0.75 квантиль "
   ]
  },
  {
   "cell_type": "code",
   "execution_count": 276,
   "metadata": {},
   "outputs": [
    {
     "data": {
      "image/png": "[encoded data removed]",
      "text/plain": [
       "<Figure size 432x288 with 1 Axes>"
      ]
     },
     "metadata": {
      "needs_background": "light"
     },
     "output_type": "display_data"
    }
   ],
   "source": [
    "dataset_2.fail_share.plot(kind = 'box')\n",
    "plt.show()"
   ]
  },
  {
   "cell_type": "code",
   "execution_count": 260,
   "metadata": {},
   "outputs": [],
   "source": [
    "dataset_2_outliers = dataset_2.fail_share.quantile(0.75) + 1.5 * (dataset_2.fail_share.quantile(0.75) - dataset_2.fail_share.quantile(0.25))"
   ]
  },
  {
   "cell_type": "code",
   "execution_count": 261,
   "metadata": {},
   "outputs": [],
   "source": [
    "dataset_2 = level_grader(dataset_2, 'fail_share', top_outliers = dataset_2_outliers)"
   ]
  },
  {
   "cell_type": "code",
   "execution_count": 277,
   "metadata": {},
   "outputs": [
    {
     "data": {
      "image/png": "[encoded data removed]",
      "text/plain": [
       "<Figure size 432x288 with 1 Axes>"
      ]
     },
     "metadata": {
      "needs_background": "light"
     },
     "output_type": "display_data"
    }
   ],
   "source": [
    "plt.scatter(x = list(dataset_2[dataset_2.level_difficulty == 'Очень сложный'].index), y = dataset_2.loc[dataset_2.level_difficulty == 'Очень сложный', 'level_difficulty'])\n",
    "plt.xlabel('level')\n",
    "plt.show()"
   ]
  },
  {
   "cell_type": "code",
   "execution_count": 263,
   "metadata": {},
   "outputs": [
    {
     "name": "stdout",
     "output_type": "stream",
     "text": [
      "Второе разделение по уровням сложности:\n",
      "\n"
     ]
    },
    {
     "data": {
      "text/plain": [
       "Легкий           250\n",
       "Средний          125\n",
       "Сложный           97\n",
       "Очень сложный     28\n",
       "Name: level_difficulty, dtype: int64"
      ]
     },
     "execution_count": 263,
     "metadata": {},
     "output_type": "execute_result"
    }
   ],
   "source": [
    "print('Второе разделение по уровням сложности:')\n",
    "print()\n",
    "dataset_2.level_difficulty.value_counts()"
   ]
  },
  {
   "cell_type": "markdown",
   "metadata": {},
   "source": [
    "### Вывод по разделению 2\n",
    "\n",
    "Видим, что разделение 2 сильно отличается от первого во всех отношениях. \n",
    "<br>\n",
    "Здесь очень сложные уровни лежать в пределах до уровня 200 и распределены достаточно равномерно первым двум сотным уровней. Самый плотный участов - уровни 70 - 120, где лежит наибольшая часть самых сложных уровней, согласно данному разбиению."
   ]
  },
  {
   "cell_type": "markdown",
   "metadata": {},
   "source": [
    "## Разделение по уровням 3: \n",
    "## Дополнительный вариант разбиения (решил использовать его позже, когда составлял воронку)"
   ]
  },
  {
   "cell_type": "code",
   "execution_count": 264,
   "metadata": {},
   "outputs": [],
   "source": [
    "dataset_3 = dataset_temp.reset_index()\n",
    "dataset_3['passed_at_level'] = np.where(dataset_3.completed > 0, 1, 0)\n",
    "dataset_3['failed_at_level'] = np.where(dataset_3.completed > 0, 0, 1)\n",
    "\n",
    "dataset_3 = dataset_3.groupby('level').agg({'passed_at_level' : 'sum', 'failed_at_level' : 'sum'})\n",
    "dataset_3['total_players'] = dataset_3['failed_at_level'] + dataset_3['passed_at_level']\n",
    "dataset_3['prct_failed_players'] = (dataset_3['failed_at_level'] / dataset_3['total_players']) * 100"
   ]
  },
  {
   "cell_type": "code",
   "execution_count": 271,
   "metadata": {},
   "outputs": [
    {
     "data": {
      "image/png": "[encoded data removed]",
      "text/plain": [
       "<Figure size 432x288 with 1 Axes>"
      ]
     },
     "metadata": {
      "needs_background": "light"
     },
     "output_type": "display_data"
    }
   ],
   "source": [
    "dataset_3.prct_failed_players.plot(kind = 'box')\n",
    "plt.show()"
   ]
  },
  {
   "cell_type": "code",
   "execution_count": 266,
   "metadata": {},
   "outputs": [],
   "source": [
    "dataset_3_outliers = dataset_3.prct_failed_players.quantile(0.75) + 1.5 * (dataset_3.prct_failed_players.quantile(0.75) - dataset_3.prct_failed_players.quantile(0.25))\n",
    "dataset_3 = level_grader(dataset_3, 'prct_failed_players', top_outliers = dataset_3_outliers)"
   ]
  },
  {
   "cell_type": "code",
   "execution_count": 272,
   "metadata": {},
   "outputs": [
    {
     "data": {
      "image/png": "[encoded data removed]",
      "text/plain": [
       "<Figure size 432x288 with 1 Axes>"
      ]
     },
     "metadata": {
      "needs_background": "light"
     },
     "output_type": "display_data"
    }
   ],
   "source": [
    "plt.scatter(x = list(dataset_3[dataset_3.level_difficulty == 'Очень сложный'].index), y = dataset_3.loc[dataset_3.level_difficulty == 'Очень сложный', 'level_difficulty'])\n",
    "plt.xlabel('level')\n",
    "plt.show()"
   ]
  },
  {
   "cell_type": "code",
   "execution_count": 268,
   "metadata": {},
   "outputs": [
    {
     "name": "stdout",
     "output_type": "stream",
     "text": [
      "Третье разделение по уровням сложности:\n",
      "\n"
     ]
    },
    {
     "data": {
      "text/plain": [
       "Легкий           250\n",
       "Средний          125\n",
       "Сложный          107\n",
       "Очень сложный     18\n",
       "Name: level_difficulty, dtype: int64"
      ]
     },
     "execution_count": 268,
     "metadata": {},
     "output_type": "execute_result"
    }
   ],
   "source": [
    "print('Третье разделение по уровням сложности:')\n",
    "print()\n",
    "dataset_3.level_difficulty.value_counts()"
   ]
  },
  {
   "cell_type": "markdown",
   "metadata": {},
   "source": [
    "### Вывод по разделению 3\n",
    "\n",
    "Видим, что разделение 3 отличается от разделения 2.\n",
    "<br>\n",
    "Здесь очень сложные уровни лежать в пределах до уровня 120 и распределены очень плотно в первой сотне уровней. Именно данное разбиение мне кажется самым адекватным и метрику prct_failed_players я выбираю как основную"
   ]
  },
  {
   "cell_type": "markdown",
   "metadata": {},
   "source": [
    "## Вывод по заданию 2"
   ]
  },
  {
   "cell_type": "markdown",
   "metadata": {},
   "source": [
    "Основная метрика - метрика prct_failed_players из dataset_3. \n",
    "<br>\n",
    "Эта метрика подсчитывает сколько игроков провались на данном уровне от общего количества игроков(не попыток) на данном уровне. Благодаря этой метрике можно найти уровни, после которых игроки чаще всего заканчивают игру."
   ]
  },
  {
   "cell_type": "markdown",
   "metadata": {},
   "source": [
    "## Решение задачи 3"
   ]
  },
  {
   "cell_type": "markdown",
   "metadata": {},
   "source": [
    "#### Рассчитать \"воронку\" прохождения уровней новым пользователем после установки игры.\n",
    "\n",
    "Воронку представим в виде таблицы, которая была построена в процессе решения второй задачи: \n",
    "<br>\n",
    "1)количество игроков, прошедших уровень\n",
    "<br>\n",
    "2)количество игроков, застрявших на уровне\n",
    "<br>\n",
    "3)процент застрявших от общего количества"
   ]
  },
  {
   "cell_type": "code",
   "execution_count": 269,
   "metadata": {},
   "outputs": [
    {
     "data": {
      "text/html": [
       "<div>\n",
       "<style scoped>\n",
       "    .dataframe tbody tr th:only-of-type {\n",
       "        vertical-align: middle;\n",
       "    }\n",
       "\n",
       "    .dataframe tbody tr th {\n",
       "        vertical-align: top;\n",
       "    }\n",
       "\n",
       "    .dataframe thead th {\n",
       "        text-align: right;\n",
       "    }\n",
       "</style>\n",
       "<table border=\"1\" class=\"dataframe\">\n",
       "  <thead>\n",
       "    <tr style=\"text-align: right;\">\n",
       "      <th></th>\n",
       "      <th>passed_at_level</th>\n",
       "      <th>failed_at_level</th>\n",
       "      <th>prct_failed_players</th>\n",
       "    </tr>\n",
       "    <tr>\n",
       "      <th>level</th>\n",
       "      <th></th>\n",
       "      <th></th>\n",
       "      <th></th>\n",
       "    </tr>\n",
       "  </thead>\n",
       "  <tbody>\n",
       "    <tr>\n",
       "      <td>1</td>\n",
       "      <td>24157</td>\n",
       "      <td>5</td>\n",
       "      <td>0.020694</td>\n",
       "    </tr>\n",
       "    <tr>\n",
       "      <td>2</td>\n",
       "      <td>21987</td>\n",
       "      <td>190</td>\n",
       "      <td>0.856743</td>\n",
       "    </tr>\n",
       "    <tr>\n",
       "      <td>3</td>\n",
       "      <td>21232</td>\n",
       "      <td>183</td>\n",
       "      <td>0.854541</td>\n",
       "    </tr>\n",
       "    <tr>\n",
       "      <td>4</td>\n",
       "      <td>20864</td>\n",
       "      <td>52</td>\n",
       "      <td>0.248614</td>\n",
       "    </tr>\n",
       "    <tr>\n",
       "      <td>5</td>\n",
       "      <td>20296</td>\n",
       "      <td>329</td>\n",
       "      <td>1.595152</td>\n",
       "    </tr>\n",
       "  </tbody>\n",
       "</table>\n",
       "</div>"
      ],
      "text/plain": [
       "       passed_at_level  failed_at_level  prct_failed_players\n",
       "level                                                       \n",
       "1                24157                5             0.020694\n",
       "2                21987              190             0.856743\n",
       "3                21232              183             0.854541\n",
       "4                20864               52             0.248614\n",
       "5                20296              329             1.595152"
      ]
     },
     "execution_count": 269,
     "metadata": {},
     "output_type": "execute_result"
    }
   ],
   "source": [
    "dataset_3[['passed_at_level', 'failed_at_level', 'prct_failed_players']].head()"
   ]
  },
  {
   "cell_type": "code",
   "execution_count": 270,
   "metadata": {},
   "outputs": [
    {
     "data": {
      "image/png": "[encoded data removed]",
      "text/plain": [
       "<Figure size 432x288 with 1 Axes>"
      ]
     },
     "metadata": {
      "needs_background": "light"
     },
     "output_type": "display_data"
    }
   ],
   "source": [
    "dataset_3 = dataset_3.sort_index()\n",
    "cumulative_dataset_3 = np.cumsum(dataset_3[['failed_at_level']])\n",
    "\n",
    "plt.plot(dataset_3.index, cumulative_dataset_3, c='blue')\n",
    "plt.xlabel('level')\n",
    "plt.ylabel('cumulative number of failed players')\n",
    "plt.show()"
   ]
  },
  {
   "cell_type": "markdown",
   "metadata": {},
   "source": [
    "### Вывод по задаче 3\n",
    "\n",
    "Видим, что от первых уровней до уровня 180-190 количество выбывающих игроков примерно стабильно и образует почти прямую линию. Дальше отсекающихся игроков становится все меньше. \n",
    "<br>\n",
    "Интересно было бы посмотреть сколько людей проходит игру после прохождения очень сложных уровней. Например, сравнить какой процент игроков проходит игру из тех, кто начинает и из тех, кто проходит уровень 200."
   ]
  }
 ],
 "metadata": {
  "kernelspec": {
   "display_name": "Python 3",
   "language": "python",
   "name": "python3"
  },
  "language_info": {
   "codemirror_mode": {
    "name": "ipython",
    "version": 3
   },
   "file_extension": ".py",
   "mimetype": "text/x-python",
   "name": "python",
   "nbconvert_exporter": "python",
   "pygments_lexer": "ipython3",
   "version": "3.7.6"
  }
 },
 "nbformat": 4,
 "nbformat_minor": 4
}
